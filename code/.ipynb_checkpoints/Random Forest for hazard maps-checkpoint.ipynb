{
 "cells": [
  {
   "cell_type": "code",
   "execution_count": 1,
   "id": "eb1a089b",
   "metadata": {},
   "outputs": [],
   "source": [
    "%config Completer.use_jedi = False\n",
    "# Import Python 3's print function and division\n",
    "from __future__ import print_function, division\n",
    "\n",
    "#Loading data\n",
    "import pandas as pd\n",
    "import numpy as np\n",
    "import warnings\n",
    "from sklearn.preprocessing import MinMaxScaler\n",
    "#models\n",
    "from sklearn.ensemble import RandomForestClassifier\n",
    "from sklearn.model_selection import GridSearchCV\n",
    "from sklearn.cluster import KMeans\n",
    "from sklearn.model_selection import RandomizedSearchCV\n",
    "\n",
    "from sklearn.preprocessing import StandardScaler\n",
    "from sklearn.decomposition import PCA\n",
    "from sklearn.pipeline import Pipeline\n",
    "from sklearn.linear_model import LogisticRegression\n",
    "\n",
    "#plots\n",
    "import seaborn as sns\n",
    "import matplotlib.pylab as plt\n",
    "import matplotlib.patches as mpatches\n",
    "from collections import OrderedDict\n",
    "\n",
    "cmaps = OrderedDict()\n",
    "\n",
    "#metrics\n",
    "from sklearn import metrics\n",
    "from sklearn.model_selection import train_test_split\n",
    "\n",
    "from sklearn.metrics import recall_score,precision_score, cohen_kappa_score\n",
    "from sklearn.metrics import f1_score\n",
    "from sklearn.metrics import make_scorer\n",
    "from sklearn.metrics import f1_score, confusion_matrix, roc_curve, auc, \\\n",
    "            classification_report, recall_score, precision_recall_curve\n",
    "\n",
    "#cross validations\n",
    "from sklearn.model_selection import KFold\n",
    "from sklearn.model_selection import StratifiedKFold\n",
    "\n",
    "from osgeo import gdal\n",
    "from osgeo import gdal_array\n",
    "from osgeo import osr\n",
    "\n",
    "# Define random state\n",
    "random_state = 2019\n",
    "np.random.seed(random_state)\n",
    "warnings.filterwarnings('ignore')\n",
    "\n",
    "#librerias de sistema\n",
    "import os\n",
    "\n",
    "\n",
    "\n",
    "# latex parameter\n",
    "font = {\n",
    "    'family': 'serif', \n",
    "    'serif': ['Computer Modern Roman'],\n",
    "    'weight' : 'regular',\n",
    "    'size'   : 8\n",
    "    }\n",
    "\n",
    "plt.rc('font', **font)"
   ]
  },
  {
   "cell_type": "code",
   "execution_count": 2,
   "id": "0bf4ba82",
   "metadata": {},
   "outputs": [],
   "source": [
    "#slope --    CTE\n",
    "#soil type---CTE\n",
    "#land use ---- Variable \n",
    "#Bearing capacity .. simulate scenarios for 2007 starting from 1999 bearing capacity map\n",
    "\n",
    "#Hazard level 2001 for training and 2007 for validation"
   ]
  },
  {
   "cell_type": "markdown",
   "id": "be18d9bc",
   "metadata": {},
   "source": [
    "<img src=\"D:/Proyectos_GitHub/PISCO_Peligro/img/idea_1.png\">"
   ]
  },
  {
   "cell_type": "code",
   "execution_count": 3,
   "id": "54487524",
   "metadata": {},
   "outputs": [],
   "source": [
    "#Bajo 1\n",
    "#Medio 2\n",
    "#Alto 3\n",
    "#Muy Alto 4\n",
    "\n",
    "#### TIPOS de Suel"
   ]
  },
  {
   "cell_type": "code",
   "execution_count": 4,
   "id": "255fa832",
   "metadata": {},
   "outputs": [],
   "source": [
    "def show_field(field1,field2):\n",
    "    tar_names=['vacio','Medio','Alto','Muy Alto']\n",
    "    combined_data = np.array([field1,field2])\n",
    "    #Get the min and max of all your data\n",
    "    _min, _max = np.amin(combined_data), np.amax(combined_data)\n",
    "\n",
    "    fig = plt.figure(figsize=(15,20))\n",
    "    ax = fig.add_subplot(1, 2, 1)\n",
    "    #Add the vmin and vmax arguments to set the color scale\n",
    "    ax.imshow(field1,cmap='tab20b', vmin = _min, vmax = _max)\n",
    "    #ax.set_adjustable('box-forced')\n",
    "    ax.autoscale(False)\n",
    "    ax2 = fig.add_subplot(1, 2, 2)\n",
    "    #ax2.set_adjustable('box-forced')\n",
    "    #Add the vmin and vmax arguments to set the color scale\n",
    "    im=ax2.imshow(field2,cmap='tab20b', vmin = _min, vmax = _max)\n",
    "    ax2.autoscale(False)\n",
    "    \n",
    "    values=np.unique(field2)\n",
    "    colors = [ im.cmap(im.norm(value)) for value in np.unique(field2)]\n",
    "    #patches = [ mpatches.Patch(color=colors[i], label=\"Bioma {l}\".format(l=values[i]) ) for i in range(len(values)) ]\n",
    "    patches = [ mpatches.Patch(color=colors[i], label=tar_names[i] ) for i in range(len(values)) ]\n",
    "    plt.legend(handles=patches, bbox_to_anchor=(1.05, 1), loc=2, borderaxespad=0. ,title='Hazard level',fontsize=12,title_fontsize=15)\n",
    "    \n",
    "    plt.show()\n",
    "    pass"
   ]
  },
  {
   "cell_type": "code",
   "execution_count": 5,
   "id": "099dcae7",
   "metadata": {},
   "outputs": [],
   "source": [
    "class Create_ensemble(object):\n",
    "    def __init__(self, n_splits, base_models):\n",
    "        self.n_splits = n_splits\n",
    "        self.base_models = base_models\n",
    "        self.metriks={}\n",
    "        self.RE=[]\n",
    "        self.F1=[]\n",
    "        self.PRE=[]#\n",
    "\n",
    "    def predict(self, X, y, T):\n",
    "        X = np.array(X)\n",
    "        y = np.array(y)\n",
    "        T = np.array(T)\n",
    "        no_class = len(np.unique(y))\n",
    "\n",
    "        folds = list(StratifiedKFold(n_splits=self.n_splits, shuffle=True, \n",
    "                                     random_state = random_state).split(X, y))\n",
    "\n",
    "        train_proba = np.zeros((X.shape[0], no_class))\n",
    "        test_proba = np.zeros((T.shape[0], no_class))\n",
    "        \n",
    "        train_pred = np.zeros((X.shape[0], len(self.base_models)))\n",
    "        test_pred = np.zeros((T.shape[0], len(self.base_models)* self.n_splits))\n",
    "        f1_scores = np.zeros((len(self.base_models), self.n_splits))\n",
    "        recall_scores = np.zeros((len(self.base_models), self.n_splits))\n",
    "        \n",
    "        test_col = 0\n",
    "        for i, clf in enumerate(self.base_models):\n",
    "            \n",
    "            for j, (train_idx, valid_idx) in enumerate(folds):\n",
    "                \n",
    "                X_train = X[train_idx]\n",
    "                Y_train = y[train_idx]\n",
    "                X_valid = X[valid_idx]\n",
    "                Y_valid = y[valid_idx]\n",
    "                \n",
    "                clf.fit(X_train, Y_train)\n",
    "                \n",
    "                valid_pred = clf.predict(X_valid)\n",
    "                recall  = recall_score(Y_valid, valid_pred, average='macro')\n",
    "                precision=precision_score(Y_valid,valid_pred,average='macro')#\n",
    "                f1 = f1_score(Y_valid, valid_pred, average='macro')\n",
    "                \n",
    "                recall_scores[i][j] = recall\n",
    "                f1_scores[i][j] = f1\n",
    "                \n",
    "                train_pred[valid_idx, i] = valid_pred\n",
    "                test_pred[:, test_col] = clf.predict(T)\n",
    "                test_col += 1\n",
    "                \n",
    "                ## Probabilities\n",
    "                valid_proba = clf.predict_proba(X_valid)\n",
    "                train_proba[valid_idx, :] = valid_proba\n",
    "                test_proba  += clf.predict_proba(T)\n",
    "                \n",
    "                self.RE.append(recall)\n",
    "                self.F1.append(f1)\n",
    "                self.PRE.append(precision)#\n",
    "                print( \"Model- {} and CV- {} recall: {}, precision: {}, f1_score: {}\".format(i, j, recall,precision, f1))\n",
    "                \n",
    "            test_proba /= self.n_splits\n",
    "            self.metriks['recall']=self.RE\n",
    "            self.metriks['f1']=self.F1\n",
    "            self.metriks['precision']=self.PRE#\n",
    "            \n",
    "        return train_proba, test_proba, train_pred, test_pred,self.metriks"
   ]
  },
  {
   "cell_type": "markdown",
   "id": "ef2e1f69",
   "metadata": {},
   "source": [
    "# Loading Data and splitting it into 80% training and 20% test data"
   ]
  },
  {
   "cell_type": "code",
   "execution_count": 6,
   "id": "1577d657",
   "metadata": {},
   "outputs": [],
   "source": [
    "data=pd.read_csv('D:/Proyectos_GitHub/PISCO_Peligro/data/CSV/data.csv')\n",
    "features=data.iloc[:,0:5]\n",
    "target=data.loc[:,'hazard_value']\n",
    "xtrain, xtest, ytrain, ytest = train_test_split(features, target, test_size=0.20, random_state=42)"
   ]
  },
  {
   "cell_type": "markdown",
   "id": "4dd53e3a",
   "metadata": {},
   "source": [
    "# Best parameters grid search for RF"
   ]
  },
  {
   "cell_type": "code",
   "execution_count": 7,
   "id": "06e546fd",
   "metadata": {
    "scrolled": true
   },
   "outputs": [
    {
     "name": "stdout",
     "output_type": "stream",
     "text": [
      "Fitting 3 folds for each of 28 candidates, totalling 84 fits\n"
     ]
    },
    {
     "name": "stderr",
     "output_type": "stream",
     "text": [
      "[Parallel(n_jobs=-1)]: Using backend LokyBackend with 24 concurrent workers.\n",
      "[Parallel(n_jobs=-1)]: Done  59 out of  84 | elapsed:    8.1s remaining:    3.4s\n",
      "[Parallel(n_jobs=-1)]: Done  81 out of  84 | elapsed:   10.5s remaining:    0.3s\n",
      "[Parallel(n_jobs=-1)]: Done  84 out of  84 | elapsed:   11.1s finished\n"
     ]
    },
    {
     "name": "stdout",
     "output_type": "stream",
     "text": [
      "RandomForestClassifier(max_depth=10, n_estimators=250, random_state=2019)\n",
      "{'n_estimators': 250, 'max_depth': 10}\n"
     ]
    }
   ],
   "source": [
    "cv = StratifiedKFold(n_splits = 3, shuffle=True, random_state = random_state)\n",
    "\n",
    "rdf = RandomForestClassifier(random_state = random_state) \n",
    "scoring = {'Recall': make_scorer(recall_score),\n",
    "           'f1_score': make_scorer(f1_score)\n",
    "          }\n",
    "\n",
    "params = {'max_depth': [5, 10, 20,30], \n",
    "              'n_estimators' : [200,250,300,350,400,450,500]\n",
    "             }\n",
    "grid_clf= RandomizedSearchCV(estimator = rdf, param_distributions = params, n_iter = 50, cv = cv, verbose=4, n_jobs = -1)\n",
    "#grid_clf = GridSearchCV(estimator = rdf, param_grid = params, cv = cv, n_jobs=-1, verbose=4)\n",
    "grid_clf.fit(xtrain, ytrain)\n",
    "\n",
    "print(grid_clf.best_estimator_)\n",
    "print(grid_clf.best_params_)"
   ]
  },
  {
   "cell_type": "markdown",
   "id": "06ab837e",
   "metadata": {},
   "source": [
    "# CROSS VALIDATION"
   ]
  },
  {
   "cell_type": "code",
   "execution_count": 8,
   "id": "52867fd8",
   "metadata": {},
   "outputs": [
    {
     "name": "stdout",
     "output_type": "stream",
     "text": [
      "Model- 0 and CV- 0 recall: 0.8916120940982394, precision: 0.9719820357870951, f1_score: 0.9254871185387227\n",
      "Model- 0 and CV- 1 recall: 0.8762701961537958, precision: 0.9511965011447413, f1_score: 0.9078610003234798\n",
      "Model- 0 and CV- 2 recall: 0.9108982215087544, precision: 0.9329653486281472, f1_score: 0.9214236709457871\n",
      "Model- 0 and CV- 3 recall: 0.888707645038234, precision: 0.9567563007648956, f1_score: 0.9180338250654545\n",
      "Model- 0 and CV- 4 recall: 0.8891547132031828, precision: 0.9052469652723358, f1_score: 0.8969114190779909\n"
     ]
    }
   ],
   "source": [
    "rdf = RandomForestClassifier(bootstrap=True, criterion='gini',\n",
    "            max_depth=10, max_features='auto', max_leaf_nodes=None,\n",
    "            min_impurity_decrease=0.0, min_impurity_split=None,\n",
    "            min_samples_leaf=4, min_samples_split=5,\n",
    "            min_weight_fraction_leaf=0.0, n_estimators=250, n_jobs=-1,\n",
    "            oob_score=False,\n",
    "            random_state=random_state,\n",
    "            verbose=0, warm_start=False)\n",
    "\n",
    "base_models = [rdf]\n",
    "n_splits = 5\n",
    "rf_stack = Create_ensemble(n_splits = n_splits, base_models = base_models)     \n",
    "train_proba, test_proba, train_pred, test_pred,indi_rf = rf_stack.predict(xtrain, ytrain, xtest)"
   ]
  },
  {
   "cell_type": "code",
   "execution_count": 9,
   "id": "c4c065e4",
   "metadata": {},
   "outputs": [
    {
     "name": "stdout",
     "output_type": "stream",
     "text": [
      "1. The F-1 score of the model 0.9137526426098884\n",
      "\n",
      "2. The recall score of the model 0.8912732504123594\n",
      "\n",
      "3. Classification report \n",
      "               precision    recall  f1-score   support\n",
      "\n",
      "           2       0.98      0.99      0.98      7848\n",
      "           3       0.98      0.98      0.98      9227\n",
      "           4       0.86      0.71      0.78       302\n",
      "\n",
      "    accuracy                           0.98     17377\n",
      "   macro avg       0.94      0.89      0.91     17377\n",
      "weighted avg       0.98      0.98      0.98     17377\n",
      " \n",
      "\n",
      "4. Confusion matrix \n",
      " [[7743  105    0]\n",
      " [ 133 9060   34]\n",
      " [   3   86  213]] \n",
      "\n"
     ]
    }
   ],
   "source": [
    "print('1. The F-1 score of the model {}\\n'.format(f1_score(ytrain, train_pred, average='macro')))\n",
    "print('2. The recall score of the model {}\\n'.format(recall_score(ytrain, train_pred, average='macro')))\n",
    "print('3. Classification report \\n {} \\n'.format(classification_report(ytrain, train_pred)))\n",
    "print('4. Confusion matrix \\n {} \\n'.format(confusion_matrix(ytrain, train_pred)))"
   ]
  },
  {
   "cell_type": "markdown",
   "id": "ea8fee13",
   "metadata": {},
   "source": [
    "# Predicting Hazard Maps "
   ]
  },
  {
   "cell_type": "code",
   "execution_count": 13,
   "id": "83501d97",
   "metadata": {},
   "outputs": [],
   "source": [
    "def predictions(x,model,target):\n",
    "    result=model.predict(x.dropna())\n",
    "    target[list(x.dropna().index)]=result \n",
    "    return target"
   ]
  },
  {
   "cell_type": "markdown",
   "id": "2892fc08",
   "metadata": {},
   "source": [
    "Loading rasters"
   ]
  },
  {
   "cell_type": "code",
   "execution_count": 14,
   "id": "d5aaeb09",
   "metadata": {},
   "outputs": [],
   "source": [
    "# Tell GDAL to throw Python exceptions, and register all drivers\n",
    "gdal.UseExceptions()\n",
    "gdal.AllRegister()\n",
    "explanatory_rasters = os.listdir(\"D:/Proyectos_GitHub/PISCO_Peligro/data/rasters/input/\")\n",
    "# Read in our predictors into img_ds and ROI is the current biome configuration\n",
    "\n",
    "img_ds=[gdal.Open(\"D:/Proyectos_GitHub/PISCO_Peligro/data/rasters/input/\"+pred, gdal.GA_ReadOnly) for pred in explanatory_rasters]   \n",
    "\n",
    "roi_ds = gdal.Open('D:/Proyectos_GitHub/PISCO_Peligro/data/rasters/target/hazard.tif', gdal.GA_ReadOnly)\n",
    "\n",
    "#saving the image as arrays\n",
    "img = [img_ds[i].GetRasterBand(1).ReadAsArray() for i in range(len(img_ds))]\n",
    "    \n",
    "roi = roi_ds.GetRasterBand(1).ReadAsArray().astype(np.uint8)"
   ]
  },
  {
   "cell_type": "code",
   "execution_count": 15,
   "id": "d7cb5149",
   "metadata": {},
   "outputs": [],
   "source": [
    "n,m=img[1].shape\n",
    "target=-1*np.ones((n*m))\n",
    "predictores=[]\n",
    "for i in range(len(img)):\n",
    "    predictores.append(img[i].reshape(n*m))\n",
    "\n",
    "\n",
    "#las columnas son los datos de los rasters\n",
    "covariable=pd.DataFrame(np.concatenate([predictores])).transpose()\n",
    "#nombre de las columnas\n",
    "covariable.columns=[explanatory_rasters[i].split('.')[0] for i in range(len(explanatory_rasters))]\n",
    "#cleanning negative values in predictors\n",
    "covariable[covariable<-100]=np.nan\n",
    "covariable.columns=['capacity_value','dem_value','land_use_value','slope_value','soil_value']"
   ]
  },
  {
   "cell_type": "code",
   "execution_count": 16,
   "id": "025c5705",
   "metadata": {},
   "outputs": [
    {
     "data": {
      "text/plain": [
       "RandomForestClassifier(max_depth=10, min_samples_leaf=4, min_samples_split=5,\n",
       "                       n_estimators=250, n_jobs=-1, random_state=2019)"
      ]
     },
     "execution_count": 16,
     "metadata": {},
     "output_type": "execute_result"
    }
   ],
   "source": [
    "#Training the model with the 80% data\n",
    "rdf.fit(xtrain,ytrain)"
   ]
  },
  {
   "cell_type": "code",
   "execution_count": 17,
   "id": "490d4a97",
   "metadata": {},
   "outputs": [],
   "source": [
    "result=predictions(covariable,rdf,target).reshape(n,m)"
   ]
  },
  {
   "cell_type": "code",
   "execution_count": 18,
   "id": "471eedfe",
   "metadata": {},
   "outputs": [
    {
     "name": "stderr",
     "output_type": "stream",
     "text": [
      "findfont: Font family ['serif'] not found. Falling back to DejaVu Sans.\n",
      "findfont: Font family ['serif'] not found. Falling back to DejaVu Sans.\n",
      "findfont: Font family ['serif'] not found. Falling back to DejaVu Sans.\n"
     ]
    },
    {
     "data": {
      "image/png": "[encoded data removed]",
      "text/plain": [
       "<Figure size 1080x1440 with 2 Axes>"
      ]
     },
     "metadata": {
      "needs_background": "light"
     },
     "output_type": "display_data"
    }
   ],
   "source": [
    "show_field(roi,result)"
   ]
  },
  {
   "cell_type": "markdown",
   "id": "6ee0f2dd",
   "metadata": {},
   "source": [
    "# feature of importance"
   ]
  },
  {
   "cell_type": "code",
   "execution_count": 19,
   "id": "1f8213e4",
   "metadata": {},
   "outputs": [
    {
     "name": "stderr",
     "output_type": "stream",
     "text": [
      "findfont: Font family ['serif'] not found. Falling back to DejaVu Sans.\n"
     ]
    },
    {
     "data": {
      "image/png": "[encoded data removed]",
      "text/plain": [
       "<Figure size 1080x720 with 1 Axes>"
      ]
     },
     "metadata": {
      "needs_background": "light"
     },
     "output_type": "display_data"
    }
   ],
   "source": [
    "feature_imporanteces=pd.DataFrame(rdf.feature_importances_,index=covariable.columns,columns=['importance']).sort_values('importance',ascending=False)\n",
    "feature_imporanteces.plot.bar(figsize=(15,10))\n",
    "plt.title('Variables Informativas')\n",
    "plt.show()"
   ]
  },
  {
   "cell_type": "code",
   "execution_count": 20,
   "id": "603bfd08",
   "metadata": {},
   "outputs": [
    {
     "data": {
      "text/html": [
       "<div>\n",
       "<style scoped>\n",
       "    .dataframe tbody tr th:only-of-type {\n",
       "        vertical-align: middle;\n",
       "    }\n",
       "\n",
       "    .dataframe tbody tr th {\n",
       "        vertical-align: top;\n",
       "    }\n",
       "\n",
       "    .dataframe thead th {\n",
       "        text-align: right;\n",
       "    }\n",
       "</style>\n",
       "<table border=\"1\" class=\"dataframe\">\n",
       "  <thead>\n",
       "    <tr style=\"text-align: right;\">\n",
       "      <th></th>\n",
       "      <th>importance</th>\n",
       "    </tr>\n",
       "  </thead>\n",
       "  <tbody>\n",
       "    <tr>\n",
       "      <th>soil_value</th>\n",
       "      <td>0.618028</td>\n",
       "    </tr>\n",
       "    <tr>\n",
       "      <th>dem_value</th>\n",
       "      <td>0.272663</td>\n",
       "    </tr>\n",
       "    <tr>\n",
       "      <th>capacity_value</th>\n",
       "      <td>0.062257</td>\n",
       "    </tr>\n",
       "    <tr>\n",
       "      <th>slope_value</th>\n",
       "      <td>0.040335</td>\n",
       "    </tr>\n",
       "    <tr>\n",
       "      <th>land_use_value</th>\n",
       "      <td>0.006716</td>\n",
       "    </tr>\n",
       "  </tbody>\n",
       "</table>\n",
       "</div>"
      ],
      "text/plain": [
       "                importance\n",
       "soil_value        0.618028\n",
       "dem_value         0.272663\n",
       "capacity_value    0.062257\n",
       "slope_value       0.040335\n",
       "land_use_value    0.006716"
      ]
     },
     "execution_count": 20,
     "metadata": {},
     "output_type": "execute_result"
    }
   ],
   "source": [
    "feature_imporanteces"
   ]
  },
  {
   "cell_type": "code",
   "execution_count": null,
   "id": "484fe80a",
   "metadata": {},
   "outputs": [],
   "source": []
  }
 ],
 "metadata": {
  "kernelspec": {
   "display_name": "Python 3",
   "language": "python",
   "name": "python3"
  },
  "language_info": {
   "codemirror_mode": {
    "name": "ipython",
    "version": 3
   },
   "file_extension": ".py",
   "mimetype": "text/x-python",
   "name": "python",
   "nbconvert_exporter": "python",
   "pygments_lexer": "ipython3",
   "version": "3.8.5"
  }
 },
 "nbformat": 4,
 "nbformat_minor": 5
}
