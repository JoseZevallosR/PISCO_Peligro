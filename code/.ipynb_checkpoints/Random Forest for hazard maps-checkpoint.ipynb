{
 "cells": [
  {
   "cell_type": "code",
   "execution_count": 68,
   "id": "eb1a089b",
   "metadata": {},
   "outputs": [],
   "source": [
    "%config Completer.use_jedi = False\n",
    "# Import Python 3's print function and division\n",
    "from __future__ import print_function, division\n",
    "\n",
    "#Loading data\n",
    "import pandas as pd\n",
    "import numpy as np\n",
    "import warnings\n",
    "from sklearn.preprocessing import MinMaxScaler\n",
    "#models\n",
    "from sklearn.ensemble import RandomForestClassifier\n",
    "from sklearn.model_selection import GridSearchCV\n",
    "from sklearn.cluster import KMeans\n",
    "from sklearn.model_selection import RandomizedSearchCV\n",
    "\n",
    "from sklearn.preprocessing import StandardScaler\n",
    "from sklearn.decomposition import PCA\n",
    "from sklearn.pipeline import Pipeline\n",
    "from sklearn.linear_model import LogisticRegression\n",
    "\n",
    "#plots\n",
    "import seaborn as sns\n",
    "import matplotlib.pylab as plt\n",
    "import matplotlib.patches as mpatches\n",
    "from collections import OrderedDict\n",
    "\n",
    "cmaps = OrderedDict()\n",
    "\n",
    "#metrics\n",
    "from sklearn import metrics\n",
    "from sklearn.model_selection import train_test_split\n",
    "\n",
    "from sklearn.metrics import recall_score,precision_score, cohen_kappa_score\n",
    "from sklearn.metrics import f1_score\n",
    "from sklearn.metrics import make_scorer\n",
    "from sklearn.metrics import f1_score, confusion_matrix, roc_curve, auc, \\\n",
    "            classification_report, recall_score, precision_recall_curve\n",
    "\n",
    "#cross validations\n",
    "from sklearn.model_selection import KFold\n",
    "from sklearn.model_selection import StratifiedKFold\n",
    "\n",
    "from osgeo import gdal\n",
    "from osgeo import gdal_array\n",
    "from osgeo import osr\n",
    "\n",
    "# Define random state\n",
    "random_state = 2019\n",
    "np.random.seed(random_state)\n",
    "warnings.filterwarnings('ignore')\n",
    "\n",
    "#librerias de sistema\n",
    "import os\n",
    "\n",
    "\n",
    "\n",
    "# latex parameter\n",
    "font = {\n",
    "    'family': 'serif', \n",
    "    'serif': ['Computer Modern Roman'],\n",
    "    'weight' : 'regular',\n",
    "    'size'   : 8\n",
    "    }\n",
    "\n",
    "plt.rc('font', **font)"
   ]
  },
  {
   "cell_type": "code",
   "execution_count": 69,
   "id": "0bf4ba82",
   "metadata": {},
   "outputs": [],
   "source": [
    "#slope --    CTE\n",
    "#soil type---CTE\n",
    "#land use ---- Variable \n",
    "#Bearing capacity .. simulate scenarios for 2007 starting from 1999 bearing capacity map\n",
    "\n",
    "#Hazard level 2001 for training and 2007 for validation"
   ]
  },
  {
   "cell_type": "markdown",
   "id": "be18d9bc",
   "metadata": {},
   "source": [
    "<img src=\"D:/Proyectos_GitHub/PISCO_Peligro/img/idea_1.png\">"
   ]
  },
  {
   "cell_type": "code",
   "execution_count": 70,
   "id": "54487524",
   "metadata": {},
   "outputs": [],
   "source": [
    "#Bajo 1\n",
    "#Medio 2\n",
    "#Alto 3\n",
    "#Muy Alto 4\n",
    "\n",
    "#### TIPOS de Suel"
   ]
  },
  {
   "cell_type": "code",
   "execution_count": 71,
   "id": "255fa832",
   "metadata": {},
   "outputs": [],
   "source": [
    "def show_field(field1,field2):\n",
    "    tar_names=['vacio','Medio','Alto']\n",
    "    combined_data = np.array([field1,field2])\n",
    "    #Get the min and max of all your data\n",
    "    _min, _max = np.amin(combined_data), np.amax(combined_data)\n",
    "\n",
    "    fig = plt.figure(figsize=(15,20))\n",
    "    ax = fig.add_subplot(1, 2, 1)\n",
    "    #Add the vmin and vmax arguments to set the color scale\n",
    "    ax.imshow(field1,cmap='tab20b', vmin = _min, vmax = _max)\n",
    "    #ax.set_adjustable('box-forced')\n",
    "    ax.autoscale(False)\n",
    "    ax2 = fig.add_subplot(1, 2, 2)\n",
    "    #ax2.set_adjustable('box-forced')\n",
    "    #Add the vmin and vmax arguments to set the color scale\n",
    "    im=ax2.imshow(field2,cmap='tab20b', vmin = _min, vmax = _max)\n",
    "    ax2.autoscale(False)\n",
    "    \n",
    "    values=np.unique(field2)\n",
    "    colors = [ im.cmap(im.norm(value)) for value in np.unique(field2)]\n",
    "    #patches = [ mpatches.Patch(color=colors[i], label=\"Bioma {l}\".format(l=values[i]) ) for i in range(len(values)) ]\n",
    "    patches = [ mpatches.Patch(color=colors[i], label=tar_names[i] ) for i in range(len(values)) ]\n",
    "    plt.legend(handles=patches, bbox_to_anchor=(1.05, 1), loc=2, borderaxespad=0. ,title='Hazard level',fontsize=12,title_fontsize=15)\n",
    "    \n",
    "    plt.show()\n",
    "    pass"
   ]
  },
  {
   "cell_type": "code",
   "execution_count": 72,
   "id": "099dcae7",
   "metadata": {},
   "outputs": [],
   "source": [
    "class Create_ensemble(object):\n",
    "    def __init__(self, n_splits, base_models):\n",
    "        self.n_splits = n_splits\n",
    "        self.base_models = base_models\n",
    "        self.metriks={}\n",
    "        self.RE=[]\n",
    "        self.F1=[]\n",
    "        self.PRE=[]#\n",
    "\n",
    "    def predict(self, X, y, T):\n",
    "        X = np.array(X)\n",
    "        y = np.array(y)\n",
    "        T = np.array(T)\n",
    "        no_class = len(np.unique(y))\n",
    "\n",
    "        folds = list(StratifiedKFold(n_splits=self.n_splits, shuffle=True, \n",
    "                                     random_state = random_state).split(X, y))\n",
    "\n",
    "        train_proba = np.zeros((X.shape[0], no_class))\n",
    "        test_proba = np.zeros((T.shape[0], no_class))\n",
    "        \n",
    "        train_pred = np.zeros((X.shape[0], len(self.base_models)))\n",
    "        test_pred = np.zeros((T.shape[0], len(self.base_models)* self.n_splits))\n",
    "        f1_scores = np.zeros((len(self.base_models), self.n_splits))\n",
    "        recall_scores = np.zeros((len(self.base_models), self.n_splits))\n",
    "        \n",
    "        test_col = 0\n",
    "        for i, clf in enumerate(self.base_models):\n",
    "            \n",
    "            for j, (train_idx, valid_idx) in enumerate(folds):\n",
    "                \n",
    "                X_train = X[train_idx]\n",
    "                Y_train = y[train_idx]\n",
    "                X_valid = X[valid_idx]\n",
    "                Y_valid = y[valid_idx]\n",
    "                \n",
    "                clf.fit(X_train, Y_train)\n",
    "                \n",
    "                valid_pred = clf.predict(X_valid)\n",
    "                recall  = recall_score(Y_valid, valid_pred, average='macro')\n",
    "                precision=precision_score(Y_valid,valid_pred,average='macro')#\n",
    "                f1 = f1_score(Y_valid, valid_pred, average='macro')\n",
    "                \n",
    "                recall_scores[i][j] = recall\n",
    "                f1_scores[i][j] = f1\n",
    "                \n",
    "                train_pred[valid_idx, i] = valid_pred\n",
    "                test_pred[:, test_col] = clf.predict(T)\n",
    "                test_col += 1\n",
    "                \n",
    "                ## Probabilities\n",
    "                valid_proba = clf.predict_proba(X_valid)\n",
    "                train_proba[valid_idx, :] = valid_proba\n",
    "                test_proba  += clf.predict_proba(T)\n",
    "                \n",
    "                self.RE.append(recall)\n",
    "                self.F1.append(f1)\n",
    "                self.PRE.append(precision)#\n",
    "                print( \"Model- {} and CV- {} recall: {}, precision: {}, f1_score: {}\".format(i, j, recall,precision, f1))\n",
    "                \n",
    "            test_proba /= self.n_splits\n",
    "            self.metriks['recall']=self.RE\n",
    "            self.metriks['f1']=self.F1\n",
    "            self.metriks['precision']=self.PRE#\n",
    "            \n",
    "        return train_proba, test_proba, train_pred, test_pred,self.metriks"
   ]
  },
  {
   "cell_type": "markdown",
   "id": "ef2e1f69",
   "metadata": {},
   "source": [
    "# Loading Data and splitting it into 80% training and 20% test data"
   ]
  },
  {
   "cell_type": "code",
   "execution_count": 73,
   "id": "1577d657",
   "metadata": {},
   "outputs": [],
   "source": [
    "data=pd.read_csv('D:/Proyectos_GitHub/PISCO_Peligro/data/CSV/data.csv')\n",
    "features=data.iloc[:,0:5]\n",
    "target=data.loc[:,'hazard_value']\n",
    "xtrain, xtest, ytrain, ytest = train_test_split(features, target, test_size=0.30, random_state=42)"
   ]
  },
  {
   "cell_type": "markdown",
   "id": "4dd53e3a",
   "metadata": {},
   "source": [
    "# Best parameters grid search for RF"
   ]
  },
  {
   "cell_type": "code",
   "execution_count": 74,
   "id": "06e546fd",
   "metadata": {
    "scrolled": true
   },
   "outputs": [
    {
     "name": "stdout",
     "output_type": "stream",
     "text": [
      "Fitting 3 folds for each of 50 candidates, totalling 150 fits\n"
     ]
    },
    {
     "name": "stderr",
     "output_type": "stream",
     "text": [
      "[Parallel(n_jobs=-1)]: Using backend LokyBackend with 24 concurrent workers.\n",
      "[Parallel(n_jobs=-1)]: Done  50 tasks      | elapsed:   10.2s\n",
      "[Parallel(n_jobs=-1)]: Done 141 out of 150 | elapsed:   22.1s remaining:    1.3s\n",
      "[Parallel(n_jobs=-1)]: Done 150 out of 150 | elapsed:   22.5s finished\n"
     ]
    },
    {
     "name": "stdout",
     "output_type": "stream",
     "text": [
      "RandomForestClassifier(max_depth=10, max_features=2, min_samples_leaf=3,\n",
      "                       n_estimators=250, random_state=2019)\n",
      "{'n_estimators': 250, 'min_samples_leaf': 3, 'max_features': 2, 'max_depth': 10, 'bootstrap': True}\n"
     ]
    }
   ],
   "source": [
    "cv = StratifiedKFold(n_splits = 3, shuffle=True, random_state = random_state)\n",
    "\n",
    "rdf = RandomForestClassifier(random_state = random_state) \n",
    "scoring = {'Recall': make_scorer(recall_score),\n",
    "           'f1_score': make_scorer(f1_score)\n",
    "          }\n",
    "\n",
    "params = {'max_depth': [5, 10, 20,30], \n",
    "              'n_estimators' : [200,250,300,350,400,450,500],\n",
    "          'bootstrap':[True],\n",
    "          'min_samples_leaf':[3,4,5],\n",
    "          'max_features':[2,3,4,5]\n",
    "             }\n",
    "grid_clf= RandomizedSearchCV(estimator = rdf, param_distributions = params, n_iter = 50, cv = cv, verbose=4, n_jobs = -1)\n",
    "#grid_clf = GridSearchCV(estimator = rdf, param_grid = params, cv = cv, n_jobs=-1, verbose=4)\n",
    "grid_clf.fit(xtrain, ytrain)\n",
    "\n",
    "print(grid_clf.best_estimator_)\n",
    "print(grid_clf.best_params_)"
   ]
  },
  {
   "cell_type": "markdown",
   "id": "06ab837e",
   "metadata": {},
   "source": [
    "# CROSS VALIDATION"
   ]
  },
  {
   "cell_type": "code",
   "execution_count": 75,
   "id": "52867fd8",
   "metadata": {},
   "outputs": [
    {
     "name": "stdout",
     "output_type": "stream",
     "text": [
      "Model- 0 and CV- 0 recall: 0.9843373990282185, precision: 0.9863277041585865, f1_score: 0.9853153774084797\n",
      "Model- 0 and CV- 1 recall: 0.9857245635413314, precision: 0.9859699097791781, f1_score: 0.9858469695194798\n",
      "Model- 0 and CV- 2 recall: 0.9876782621115667, precision: 0.9885469903259447, f1_score: 0.9881093363234341\n",
      "Model- 0 and CV- 3 recall: 0.988246467349887, precision: 0.9884934775592842, f1_score: 0.988369704300418\n",
      "Model- 0 and CV- 4 recall: 0.9843961435991797, precision: 0.9847633885905361, f1_score: 0.98457916555441\n"
     ]
    }
   ],
   "source": [
    "rdf = RandomForestClassifier(bootstrap=True, criterion='gini',\n",
    "            max_depth=10, max_features=2, max_leaf_nodes=None,\n",
    "            min_impurity_decrease=0.0, min_impurity_split=None,\n",
    "            min_samples_leaf=3, min_samples_split=5,\n",
    "            min_weight_fraction_leaf=0.0, n_estimators=250, n_jobs=-1,\n",
    "            oob_score=False,\n",
    "            random_state=random_state,\n",
    "            verbose=0, warm_start=False)\n",
    "\n",
    "base_models = [rdf]\n",
    "n_splits = 5\n",
    "rf_stack = Create_ensemble(n_splits = n_splits, base_models = base_models)     \n",
    "train_proba, test_proba, train_pred, test_pred,indi_rf = rf_stack.predict(xtrain, ytrain, xtest)"
   ]
  },
  {
   "cell_type": "code",
   "execution_count": 76,
   "id": "c4c065e4",
   "metadata": {},
   "outputs": [
    {
     "name": "stdout",
     "output_type": "stream",
     "text": [
      "1. The F-1 score of the model 0.9864441409694487\n",
      "\n",
      "2. The recall score of the model 0.9860763000204252\n",
      "\n",
      "3. Classification report \n",
      "               precision    recall  f1-score   support\n",
      "\n",
      "           2       0.98      0.98      0.98      7918\n",
      "           3       0.99      0.99      0.99     13179\n",
      "\n",
      "    accuracy                           0.99     21097\n",
      "   macro avg       0.99      0.99      0.99     21097\n",
      "weighted avg       0.99      0.99      0.99     21097\n",
      " \n",
      "\n",
      "4. Confusion matrix \n",
      " [[ 7769   149]\n",
      " [  119 13060]] \n",
      "\n"
     ]
    }
   ],
   "source": [
    "print('1. The F-1 score of the model {}\\n'.format(f1_score(ytrain, train_pred, average='macro')))\n",
    "print('2. The recall score of the model {}\\n'.format(recall_score(ytrain, train_pred, average='macro')))\n",
    "print('3. Classification report \\n {} \\n'.format(classification_report(ytrain, train_pred)))\n",
    "print('4. Confusion matrix \\n {} \\n'.format(confusion_matrix(ytrain, train_pred)))"
   ]
  },
  {
   "cell_type": "markdown",
   "id": "ea8fee13",
   "metadata": {},
   "source": [
    "# Predicting Hazard Maps "
   ]
  },
  {
   "cell_type": "code",
   "execution_count": 77,
   "id": "83501d97",
   "metadata": {},
   "outputs": [],
   "source": [
    "def predictions(x,model,target):\n",
    "    result=model.predict(x.dropna())\n",
    "    target[list(x.dropna().index)]=result \n",
    "    return target"
   ]
  },
  {
   "cell_type": "markdown",
   "id": "2892fc08",
   "metadata": {},
   "source": [
    "Loading rasters"
   ]
  },
  {
   "cell_type": "code",
   "execution_count": 78,
   "id": "d5aaeb09",
   "metadata": {},
   "outputs": [],
   "source": [
    "# Tell GDAL to throw Python exceptions, and register all drivers\n",
    "gdal.UseExceptions()\n",
    "gdal.AllRegister()\n",
    "explanatory_rasters = os.listdir(\"D:/Proyectos_GitHub/PISCO_Peligro/data/rasters/input/\")\n",
    "# Read in our predictors into img_ds and ROI is the current biome configuration\n",
    "\n",
    "img_ds=[gdal.Open(\"D:/Proyectos_GitHub/PISCO_Peligro/data/rasters/input/\"+pred, gdal.GA_ReadOnly) for pred in explanatory_rasters]   \n",
    "\n",
    "roi_ds = gdal.Open('D:/Proyectos_GitHub/PISCO_Peligro/data/rasters/target/hazard.tif', gdal.GA_ReadOnly)\n",
    "\n",
    "#saving the image as arrays\n",
    "img = [img_ds[i].GetRasterBand(1).ReadAsArray() for i in range(len(img_ds))]\n",
    "    \n",
    "roi = roi_ds.GetRasterBand(1).ReadAsArray().astype(np.uint8)"
   ]
  },
  {
   "cell_type": "code",
   "execution_count": 79,
   "id": "d7cb5149",
   "metadata": {},
   "outputs": [],
   "source": [
    "n,m=img[1].shape\n",
    "target=1*np.zeros((n*m))\n",
    "predictores=[]\n",
    "for i in range(len(img)):\n",
    "    predictores.append(img[i].reshape(n*m))\n",
    "\n",
    "\n",
    "#las columnas son los datos de los rasters\n",
    "covariable=pd.DataFrame(np.concatenate([predictores])).transpose()\n",
    "#nombre de las columnas\n",
    "covariable.columns=[explanatory_rasters[i].split('.')[0] for i in range(len(explanatory_rasters))]\n",
    "#cleanning negative values in predictors\n",
    "covariable[covariable<-100]=np.nan\n",
    "covariable.columns=['capacity_value','dem_value','land_use_value','slope_value','soil_value']"
   ]
  },
  {
   "cell_type": "code",
   "execution_count": 80,
   "id": "025c5705",
   "metadata": {},
   "outputs": [
    {
     "data": {
      "text/plain": [
       "RandomForestClassifier(max_depth=10, max_features=2, min_samples_leaf=3,\n",
       "                       min_samples_split=5, n_estimators=250, n_jobs=-1,\n",
       "                       random_state=2019)"
      ]
     },
     "execution_count": 80,
     "metadata": {},
     "output_type": "execute_result"
    }
   ],
   "source": [
    "#Training the model with the 80% data\n",
    "rdf.fit(xtrain,ytrain)"
   ]
  },
  {
   "cell_type": "code",
   "execution_count": 81,
   "id": "490d4a97",
   "metadata": {},
   "outputs": [],
   "source": [
    "result=predictions(covariable,rdf,target).reshape(n,m)"
   ]
  },
  {
   "cell_type": "code",
   "execution_count": 82,
   "id": "471eedfe",
   "metadata": {},
   "outputs": [
    {
     "data": {
      "image/png": "[encoded data removed]",
      "text/plain": [
       "<Figure size 1080x1440 with 2 Axes>"
      ]
     },
     "metadata": {
      "needs_background": "light"
     },
     "output_type": "display_data"
    }
   ],
   "source": [
    "show_field(roi,result)"
   ]
  },
  {
   "cell_type": "markdown",
   "id": "6ee0f2dd",
   "metadata": {},
   "source": [
    "# feature of importance"
   ]
  },
  {
   "cell_type": "code",
   "execution_count": 83,
   "id": "1f8213e4",
   "metadata": {},
   "outputs": [
    {
     "data": {
      "image/png": "[encoded data removed]",
      "text/plain": [
       "<Figure size 1080x720 with 1 Axes>"
      ]
     },
     "metadata": {
      "needs_background": "light"
     },
     "output_type": "display_data"
    }
   ],
   "source": [
    "feature_imporanteces=pd.DataFrame(rdf.feature_importances_,index=covariable.columns,columns=['importance']).sort_values('importance',ascending=False)\n",
    "feature_imporanteces.plot.bar(figsize=(15,10))\n",
    "plt.title('Variables Informativas')\n",
    "plt.show()"
   ]
  },
  {
   "cell_type": "code",
   "execution_count": 84,
   "id": "603bfd08",
   "metadata": {},
   "outputs": [
    {
     "data": {
      "text/html": [
       "<div>\n",
       "<style scoped>\n",
       "    .dataframe tbody tr th:only-of-type {\n",
       "        vertical-align: middle;\n",
       "    }\n",
       "\n",
       "    .dataframe tbody tr th {\n",
       "        vertical-align: top;\n",
       "    }\n",
       "\n",
       "    .dataframe thead th {\n",
       "        text-align: right;\n",
       "    }\n",
       "</style>\n",
       "<table border=\"1\" class=\"dataframe\">\n",
       "  <thead>\n",
       "    <tr style=\"text-align: right;\">\n",
       "      <th></th>\n",
       "      <th>importance</th>\n",
       "    </tr>\n",
       "  </thead>\n",
       "  <tbody>\n",
       "    <tr>\n",
       "      <th>soil_value</th>\n",
       "      <td>0.622807</td>\n",
       "    </tr>\n",
       "    <tr>\n",
       "      <th>dem_value</th>\n",
       "      <td>0.301037</td>\n",
       "    </tr>\n",
       "    <tr>\n",
       "      <th>capacity_value</th>\n",
       "      <td>0.045148</td>\n",
       "    </tr>\n",
       "    <tr>\n",
       "      <th>slope_value</th>\n",
       "      <td>0.026843</td>\n",
       "    </tr>\n",
       "    <tr>\n",
       "      <th>land_use_value</th>\n",
       "      <td>0.004164</td>\n",
       "    </tr>\n",
       "  </tbody>\n",
       "</table>\n",
       "</div>"
      ],
      "text/plain": [
       "                importance\n",
       "soil_value        0.622807\n",
       "dem_value         0.301037\n",
       "capacity_value    0.045148\n",
       "slope_value       0.026843\n",
       "land_use_value    0.004164"
      ]
     },
     "execution_count": 84,
     "metadata": {},
     "output_type": "execute_result"
    }
   ],
   "source": [
    "feature_imporanteces"
   ]
  },
  {
   "cell_type": "markdown",
   "id": "02a2579a",
   "metadata": {},
   "source": [
    "#  Escenario 80% de capacidad"
   ]
  },
  {
   "cell_type": "code",
   "execution_count": 86,
   "id": "c67c47b8",
   "metadata": {},
   "outputs": [
    {
     "data": {
      "image/png": "[encoded data removed]",
      "text/plain": [
       "<Figure size 1080x1440 with 2 Axes>"
      ]
     },
     "metadata": {
      "needs_background": "light"
     },
     "output_type": "display_data"
    }
   ],
   "source": [
    "# Tell GDAL to throw Python exceptions, and register all drivers\n",
    "gdal.UseExceptions()\n",
    "gdal.AllRegister()\n",
    "inputs=\"D:/Proyectos_GitHub/PISCO_Peligro/data/rasters/escenarios/ecenario1/\"\n",
    "explanatory_rasters = os.listdir(inputs)\n",
    "# Read in our predictors into img_ds and ROI is the current biome configuration\n",
    "\n",
    "img_ds=[gdal.Open(inputs+pred, gdal.GA_ReadOnly) for pred in explanatory_rasters]   \n",
    "\n",
    "roi_ds = gdal.Open('D:/Proyectos_GitHub/PISCO_Peligro/data/rasters/target/hazard.tif', gdal.GA_ReadOnly)\n",
    "\n",
    "#saving the image as arrays\n",
    "img = [img_ds[i].GetRasterBand(1).ReadAsArray() for i in range(len(img_ds))]\n",
    "    \n",
    "roi = roi_ds.GetRasterBand(1).ReadAsArray().astype(np.uint8)\n",
    "\n",
    "n,m=img[1].shape\n",
    "target=1*np.zeros((n*m))\n",
    "predictores=[]\n",
    "for i in range(len(img)):\n",
    "    predictores.append(img[i].reshape(n*m))\n",
    "\n",
    "\n",
    "#las columnas son los datos de los rasters\n",
    "covariable=pd.DataFrame(np.concatenate([predictores])).transpose()\n",
    "#nombre de las columnas\n",
    "covariable.columns=[explanatory_rasters[i].split('.')[0] for i in range(len(explanatory_rasters))]\n",
    "#cleanning negative values in predictors\n",
    "covariable[covariable<-100]=np.nan\n",
    "covariable.columns=['capacity_value','dem_value','land_use_value','slope_value','soil_value']\n",
    "\n",
    "#Training the model with the 80% data\n",
    "result=predictions(covariable,rdf,target).reshape(n,m)\n",
    "show_field(roi,result)"
   ]
  },
  {
   "cell_type": "markdown",
   "id": "f2000fba",
   "metadata": {},
   "source": [
    "#  Escenario 85% de capacidad"
   ]
  },
  {
   "cell_type": "code",
   "execution_count": 87,
   "id": "6aac17de",
   "metadata": {},
   "outputs": [
    {
     "data": {
      "image/png": "[encoded data removed]",
      "text/plain": [
       "<Figure size 1080x1440 with 2 Axes>"
      ]
     },
     "metadata": {
      "needs_background": "light"
     },
     "output_type": "display_data"
    }
   ],
   "source": [
    "# Tell GDAL to throw Python exceptions, and register all drivers\n",
    "gdal.UseExceptions()\n",
    "gdal.AllRegister()\n",
    "inputs=\"D:/Proyectos_GitHub/PISCO_Peligro/data/rasters/escenarios/ecenario2/\"\n",
    "explanatory_rasters = os.listdir(inputs)\n",
    "# Read in our predictors into img_ds and ROI is the current biome configuration\n",
    "\n",
    "img_ds=[gdal.Open(inputs+pred, gdal.GA_ReadOnly) for pred in explanatory_rasters]   \n",
    "\n",
    "roi_ds = gdal.Open('D:/Proyectos_GitHub/PISCO_Peligro/data/rasters/target/hazard.tif', gdal.GA_ReadOnly)\n",
    "\n",
    "#saving the image as arrays\n",
    "img = [img_ds[i].GetRasterBand(1).ReadAsArray() for i in range(len(img_ds))]\n",
    "    \n",
    "roi = roi_ds.GetRasterBand(1).ReadAsArray().astype(np.uint8)\n",
    "\n",
    "n,m=img[1].shape\n",
    "target=1*np.zeros((n*m))\n",
    "predictores=[]\n",
    "for i in range(len(img)):\n",
    "    predictores.append(img[i].reshape(n*m))\n",
    "\n",
    "\n",
    "#las columnas son los datos de los rasters\n",
    "covariable=pd.DataFrame(np.concatenate([predictores])).transpose()\n",
    "#nombre de las columnas\n",
    "covariable.columns=[explanatory_rasters[i].split('.')[0] for i in range(len(explanatory_rasters))]\n",
    "#cleanning negative values in predictors\n",
    "covariable[covariable<-100]=np.nan\n",
    "covariable.columns=['capacity_value','dem_value','land_use_value','slope_value','soil_value']\n",
    "\n",
    "#Training the model with the 80% data\n",
    "result=predictions(covariable,rdf,target).reshape(n,m)\n",
    "show_field(roi,result)"
   ]
  },
  {
   "cell_type": "markdown",
   "id": "ab94a104",
   "metadata": {},
   "source": [
    "#  Escenario 90% de capacidad"
   ]
  },
  {
   "cell_type": "code",
   "execution_count": 88,
   "id": "20140bc7",
   "metadata": {},
   "outputs": [
    {
     "data": {
      "image/png": "[encoded data removed]",
      "text/plain": [
       "<Figure size 1080x1440 with 2 Axes>"
      ]
     },
     "metadata": {
      "needs_background": "light"
     },
     "output_type": "display_data"
    }
   ],
   "source": [
    "# Tell GDAL to throw Python exceptions, and register all drivers\n",
    "gdal.UseExceptions()\n",
    "gdal.AllRegister()\n",
    "inputs=\"D:/Proyectos_GitHub/PISCO_Peligro/data/rasters/escenarios/ecenario3/\"\n",
    "explanatory_rasters = os.listdir(inputs)\n",
    "# Read in our predictors into img_ds and ROI is the current biome configuration\n",
    "\n",
    "img_ds=[gdal.Open(inputs+pred, gdal.GA_ReadOnly) for pred in explanatory_rasters]   \n",
    "\n",
    "roi_ds = gdal.Open('D:/Proyectos_GitHub/PISCO_Peligro/data/rasters/target/hazard.tif', gdal.GA_ReadOnly)\n",
    "\n",
    "#saving the image as arrays\n",
    "img = [img_ds[i].GetRasterBand(1).ReadAsArray() for i in range(len(img_ds))]\n",
    "    \n",
    "roi = roi_ds.GetRasterBand(1).ReadAsArray().astype(np.uint8)\n",
    "\n",
    "n,m=img[1].shape\n",
    "target=1*np.zeros((n*m))\n",
    "predictores=[]\n",
    "for i in range(len(img)):\n",
    "    predictores.append(img[i].reshape(n*m))\n",
    "\n",
    "\n",
    "#las columnas son los datos de los rasters\n",
    "covariable=pd.DataFrame(np.concatenate([predictores])).transpose()\n",
    "#nombre de las columnas\n",
    "covariable.columns=[explanatory_rasters[i].split('.')[0] for i in range(len(explanatory_rasters))]\n",
    "#cleanning negative values in predictors\n",
    "covariable[covariable<-100]=np.nan\n",
    "covariable.columns=['capacity_value','dem_value','land_use_value','slope_value','soil_value']\n",
    "\n",
    "#Training the model with the 80% data\n",
    "result=predictions(covariable,rdf,target).reshape(n,m)\n",
    "show_field(roi,result)"
   ]
  },
  {
   "cell_type": "markdown",
   "id": "4d51c910",
   "metadata": {},
   "source": [
    "#  Escenario 95% de capacidad"
   ]
  },
  {
   "cell_type": "code",
   "execution_count": 96,
   "id": "c18c5aef",
   "metadata": {},
   "outputs": [
    {
     "data": {
      "image/png": "[encoded data removed]",
      "text/plain": [
       "<Figure size 1080x1440 with 2 Axes>"
      ]
     },
     "metadata": {
      "needs_background": "light"
     },
     "output_type": "display_data"
    }
   ],
   "source": [
    "# Tell GDAL to throw Python exceptions, and register all drivers\n",
    "gdal.UseExceptions()\n",
    "gdal.AllRegister()\n",
    "inputs=\"D:/Proyectos_GitHub/PISCO_Peligro/data/rasters/escenarios/ecenario4/\"\n",
    "explanatory_rasters = os.listdir(inputs)\n",
    "# Read in our predictors into img_ds and ROI is the current biome configuration\n",
    "\n",
    "img_ds=[gdal.Open(inputs+pred, gdal.GA_ReadOnly) for pred in explanatory_rasters]   \n",
    "\n",
    "roi_ds = gdal.Open('D:/Proyectos_GitHub/PISCO_Peligro/data/rasters/target/hazard.tif', gdal.GA_ReadOnly)\n",
    "\n",
    "#saving the image as arrays\n",
    "img = [img_ds[i].GetRasterBand(1).ReadAsArray() for i in range(len(img_ds))]\n",
    "    \n",
    "roi = roi_ds.GetRasterBand(1).ReadAsArray().astype(np.uint8)\n",
    "\n",
    "n,m=img[1].shape\n",
    "target=1*np.zeros((n*m))\n",
    "predictores=[]\n",
    "for i in range(len(img)):\n",
    "    predictores.append(img[i].reshape(n*m))\n",
    "\n",
    "\n",
    "#las columnas son los datos de los rasters\n",
    "covariable=pd.DataFrame(np.concatenate([predictores])).transpose()\n",
    "#nombre de las columnas\n",
    "covariable.columns=[explanatory_rasters[i].split('.')[0] for i in range(len(explanatory_rasters))]\n",
    "#cleanning negative values in predictors\n",
    "covariable[covariable<-100]=np.nan\n",
    "covariable.columns=['capacity_value','dem_value','land_use_value','slope_value','soil_value']\n",
    "\n",
    "#Training the model with the 80% data\n",
    "result=predictions(covariable,rdf,target).reshape(n,m)\n",
    "show_field(roi,result)"
   ]
  },
  {
   "cell_type": "code",
   "execution_count": 97,
   "id": "164ab7f3",
   "metadata": {},
   "outputs": [
    {
     "data": {
      "text/html": [
       "<div>\n",
       "<style scoped>\n",
       "    .dataframe tbody tr th:only-of-type {\n",
       "        vertical-align: middle;\n",
       "    }\n",
       "\n",
       "    .dataframe tbody tr th {\n",
       "        vertical-align: top;\n",
       "    }\n",
       "\n",
       "    .dataframe thead th {\n",
       "        text-align: right;\n",
       "    }\n",
       "</style>\n",
       "<table border=\"1\" class=\"dataframe\">\n",
       "  <thead>\n",
       "    <tr style=\"text-align: right;\">\n",
       "      <th></th>\n",
       "      <th>capacity_value</th>\n",
       "      <th>dem_value</th>\n",
       "      <th>land_use_value</th>\n",
       "      <th>slope_value</th>\n",
       "      <th>soil_value</th>\n",
       "    </tr>\n",
       "  </thead>\n",
       "  <tbody>\n",
       "    <tr>\n",
       "      <th>36</th>\n",
       "      <td>1.9000</td>\n",
       "      <td>26.0</td>\n",
       "      <td>12.987371</td>\n",
       "      <td>4.000000</td>\n",
       "      <td>3.0</td>\n",
       "    </tr>\n",
       "    <tr>\n",
       "      <th>37</th>\n",
       "      <td>1.9000</td>\n",
       "      <td>26.0</td>\n",
       "      <td>13.000000</td>\n",
       "      <td>4.472136</td>\n",
       "      <td>3.0</td>\n",
       "    </tr>\n",
       "    <tr>\n",
       "      <th>38</th>\n",
       "      <td>1.9000</td>\n",
       "      <td>27.0</td>\n",
       "      <td>13.000000</td>\n",
       "      <td>5.656854</td>\n",
       "      <td>3.0</td>\n",
       "    </tr>\n",
       "    <tr>\n",
       "      <th>39</th>\n",
       "      <td>1.9000</td>\n",
       "      <td>27.0</td>\n",
       "      <td>13.000000</td>\n",
       "      <td>5.830952</td>\n",
       "      <td>3.0</td>\n",
       "    </tr>\n",
       "    <tr>\n",
       "      <th>40</th>\n",
       "      <td>1.9000</td>\n",
       "      <td>28.0</td>\n",
       "      <td>13.000000</td>\n",
       "      <td>7.071068</td>\n",
       "      <td>3.0</td>\n",
       "    </tr>\n",
       "    <tr>\n",
       "      <th>...</th>\n",
       "      <td>...</td>\n",
       "      <td>...</td>\n",
       "      <td>...</td>\n",
       "      <td>...</td>\n",
       "      <td>...</td>\n",
       "    </tr>\n",
       "    <tr>\n",
       "      <th>116950</th>\n",
       "      <td>2.3940</td>\n",
       "      <td>44.0</td>\n",
       "      <td>13.000000</td>\n",
       "      <td>5.099020</td>\n",
       "      <td>5.0</td>\n",
       "    </tr>\n",
       "    <tr>\n",
       "      <th>116951</th>\n",
       "      <td>2.6315</td>\n",
       "      <td>44.0</td>\n",
       "      <td>13.000000</td>\n",
       "      <td>4.472136</td>\n",
       "      <td>5.0</td>\n",
       "    </tr>\n",
       "    <tr>\n",
       "      <th>116952</th>\n",
       "      <td>2.6315</td>\n",
       "      <td>45.0</td>\n",
       "      <td>13.000000</td>\n",
       "      <td>4.472136</td>\n",
       "      <td>5.0</td>\n",
       "    </tr>\n",
       "    <tr>\n",
       "      <th>116953</th>\n",
       "      <td>2.6220</td>\n",
       "      <td>45.0</td>\n",
       "      <td>13.000000</td>\n",
       "      <td>4.242640</td>\n",
       "      <td>5.0</td>\n",
       "    </tr>\n",
       "    <tr>\n",
       "      <th>116954</th>\n",
       "      <td>2.7455</td>\n",
       "      <td>46.0</td>\n",
       "      <td>13.000000</td>\n",
       "      <td>5.099020</td>\n",
       "      <td>5.0</td>\n",
       "    </tr>\n",
       "  </tbody>\n",
       "</table>\n",
       "<p>46849 rows × 5 columns</p>\n",
       "</div>"
      ],
      "text/plain": [
       "        capacity_value  dem_value  land_use_value  slope_value  soil_value\n",
       "36              1.9000       26.0       12.987371     4.000000         3.0\n",
       "37              1.9000       26.0       13.000000     4.472136         3.0\n",
       "38              1.9000       27.0       13.000000     5.656854         3.0\n",
       "39              1.9000       27.0       13.000000     5.830952         3.0\n",
       "40              1.9000       28.0       13.000000     7.071068         3.0\n",
       "...                ...        ...             ...          ...         ...\n",
       "116950          2.3940       44.0       13.000000     5.099020         5.0\n",
       "116951          2.6315       44.0       13.000000     4.472136         5.0\n",
       "116952          2.6315       45.0       13.000000     4.472136         5.0\n",
       "116953          2.6220       45.0       13.000000     4.242640         5.0\n",
       "116954          2.7455       46.0       13.000000     5.099020         5.0\n",
       "\n",
       "[46849 rows x 5 columns]"
      ]
     },
     "execution_count": 97,
     "metadata": {},
     "output_type": "execute_result"
    }
   ],
   "source": [
    "covariable.dropna()"
   ]
  },
  {
   "cell_type": "markdown",
   "id": "595cb1f8",
   "metadata": {},
   "source": [
    "#  Escenario 20% de capacidad"
   ]
  },
  {
   "cell_type": "code",
   "execution_count": 98,
   "id": "b7b7ffaa",
   "metadata": {},
   "outputs": [
    {
     "data": {
      "image/png": "[encoded data removed]",
      "text/plain": [
       "<Figure size 1080x1440 with 2 Axes>"
      ]
     },
     "metadata": {
      "needs_background": "light"
     },
     "output_type": "display_data"
    }
   ],
   "source": [
    "# Tell GDAL to throw Python exceptions, and register all drivers\n",
    "gdal.UseExceptions()\n",
    "gdal.AllRegister()\n",
    "inputs=\"D:/Proyectos_GitHub/PISCO_Peligro/data/rasters/escenarios/ecenario5/\"\n",
    "explanatory_rasters = os.listdir(inputs)\n",
    "# Read in our predictors into img_ds and ROI is the current biome configuration\n",
    "\n",
    "img_ds=[gdal.Open(inputs+pred, gdal.GA_ReadOnly) for pred in explanatory_rasters]   \n",
    "\n",
    "roi_ds = gdal.Open('D:/Proyectos_GitHub/PISCO_Peligro/data/rasters/target/hazard.tif', gdal.GA_ReadOnly)\n",
    "\n",
    "#saving the image as arrays\n",
    "img = [img_ds[i].GetRasterBand(1).ReadAsArray() for i in range(len(img_ds))]\n",
    "    \n",
    "roi = roi_ds.GetRasterBand(1).ReadAsArray().astype(np.uint8)\n",
    "\n",
    "n,m=img[1].shape\n",
    "target=1*np.zeros((n*m))\n",
    "predictores=[]\n",
    "for i in range(len(img)):\n",
    "    predictores.append(img[i].reshape(n*m))\n",
    "\n",
    "\n",
    "#las columnas son los datos de los rasters\n",
    "covariable=pd.DataFrame(np.concatenate([predictores])).transpose()\n",
    "#nombre de las columnas\n",
    "covariable.columns=[explanatory_rasters[i].split('.')[0] for i in range(len(explanatory_rasters))]\n",
    "#cleanning negative values in predictors\n",
    "covariable[covariable<-100]=np.nan\n",
    "covariable.columns=['capacity_value','dem_value','land_use_value','slope_value','soil_value']\n",
    "\n",
    "#Training the model with the 80% data\n",
    "result=predictions(covariable,rdf,target).reshape(n,m)\n",
    "show_field(roi,result)"
   ]
  },
  {
   "cell_type": "code",
   "execution_count": 99,
   "id": "7ca8b3cc",
   "metadata": {},
   "outputs": [
    {
     "data": {
      "text/html": [
       "<div>\n",
       "<style scoped>\n",
       "    .dataframe tbody tr th:only-of-type {\n",
       "        vertical-align: middle;\n",
       "    }\n",
       "\n",
       "    .dataframe tbody tr th {\n",
       "        vertical-align: top;\n",
       "    }\n",
       "\n",
       "    .dataframe thead th {\n",
       "        text-align: right;\n",
       "    }\n",
       "</style>\n",
       "<table border=\"1\" class=\"dataframe\">\n",
       "  <thead>\n",
       "    <tr style=\"text-align: right;\">\n",
       "      <th></th>\n",
       "      <th>capacity_value</th>\n",
       "      <th>dem_value</th>\n",
       "      <th>land_use_value</th>\n",
       "      <th>slope_value</th>\n",
       "      <th>soil_value</th>\n",
       "    </tr>\n",
       "  </thead>\n",
       "  <tbody>\n",
       "    <tr>\n",
       "      <th>36</th>\n",
       "      <td>0.400</td>\n",
       "      <td>26.0</td>\n",
       "      <td>12.987371</td>\n",
       "      <td>4.000000</td>\n",
       "      <td>3.0</td>\n",
       "    </tr>\n",
       "    <tr>\n",
       "      <th>37</th>\n",
       "      <td>0.400</td>\n",
       "      <td>26.0</td>\n",
       "      <td>13.000000</td>\n",
       "      <td>4.472136</td>\n",
       "      <td>3.0</td>\n",
       "    </tr>\n",
       "    <tr>\n",
       "      <th>38</th>\n",
       "      <td>0.400</td>\n",
       "      <td>27.0</td>\n",
       "      <td>13.000000</td>\n",
       "      <td>5.656854</td>\n",
       "      <td>3.0</td>\n",
       "    </tr>\n",
       "    <tr>\n",
       "      <th>39</th>\n",
       "      <td>0.400</td>\n",
       "      <td>27.0</td>\n",
       "      <td>13.000000</td>\n",
       "      <td>5.830952</td>\n",
       "      <td>3.0</td>\n",
       "    </tr>\n",
       "    <tr>\n",
       "      <th>40</th>\n",
       "      <td>0.400</td>\n",
       "      <td>28.0</td>\n",
       "      <td>13.000000</td>\n",
       "      <td>7.071068</td>\n",
       "      <td>3.0</td>\n",
       "    </tr>\n",
       "    <tr>\n",
       "      <th>...</th>\n",
       "      <td>...</td>\n",
       "      <td>...</td>\n",
       "      <td>...</td>\n",
       "      <td>...</td>\n",
       "      <td>...</td>\n",
       "    </tr>\n",
       "    <tr>\n",
       "      <th>116950</th>\n",
       "      <td>0.504</td>\n",
       "      <td>44.0</td>\n",
       "      <td>13.000000</td>\n",
       "      <td>5.099020</td>\n",
       "      <td>5.0</td>\n",
       "    </tr>\n",
       "    <tr>\n",
       "      <th>116951</th>\n",
       "      <td>0.554</td>\n",
       "      <td>44.0</td>\n",
       "      <td>13.000000</td>\n",
       "      <td>4.472136</td>\n",
       "      <td>5.0</td>\n",
       "    </tr>\n",
       "    <tr>\n",
       "      <th>116952</th>\n",
       "      <td>0.554</td>\n",
       "      <td>45.0</td>\n",
       "      <td>13.000000</td>\n",
       "      <td>4.472136</td>\n",
       "      <td>5.0</td>\n",
       "    </tr>\n",
       "    <tr>\n",
       "      <th>116953</th>\n",
       "      <td>0.552</td>\n",
       "      <td>45.0</td>\n",
       "      <td>13.000000</td>\n",
       "      <td>4.242640</td>\n",
       "      <td>5.0</td>\n",
       "    </tr>\n",
       "    <tr>\n",
       "      <th>116954</th>\n",
       "      <td>0.578</td>\n",
       "      <td>46.0</td>\n",
       "      <td>13.000000</td>\n",
       "      <td>5.099020</td>\n",
       "      <td>5.0</td>\n",
       "    </tr>\n",
       "  </tbody>\n",
       "</table>\n",
       "<p>46849 rows × 5 columns</p>\n",
       "</div>"
      ],
      "text/plain": [
       "        capacity_value  dem_value  land_use_value  slope_value  soil_value\n",
       "36               0.400       26.0       12.987371     4.000000         3.0\n",
       "37               0.400       26.0       13.000000     4.472136         3.0\n",
       "38               0.400       27.0       13.000000     5.656854         3.0\n",
       "39               0.400       27.0       13.000000     5.830952         3.0\n",
       "40               0.400       28.0       13.000000     7.071068         3.0\n",
       "...                ...        ...             ...          ...         ...\n",
       "116950           0.504       44.0       13.000000     5.099020         5.0\n",
       "116951           0.554       44.0       13.000000     4.472136         5.0\n",
       "116952           0.554       45.0       13.000000     4.472136         5.0\n",
       "116953           0.552       45.0       13.000000     4.242640         5.0\n",
       "116954           0.578       46.0       13.000000     5.099020         5.0\n",
       "\n",
       "[46849 rows x 5 columns]"
      ]
     },
     "execution_count": 99,
     "metadata": {},
     "output_type": "execute_result"
    }
   ],
   "source": [
    "covariable.dropna()"
   ]
  },
  {
   "cell_type": "code",
   "execution_count": null,
   "id": "afeb9031",
   "metadata": {},
   "outputs": [],
   "source": []
  }
 ],
 "metadata": {
  "kernelspec": {
   "display_name": "Python 3",
   "language": "python",
   "name": "python3"
  },
  "language_info": {
   "codemirror_mode": {
    "name": "ipython",
    "version": 3
   },
   "file_extension": ".py",
   "mimetype": "text/x-python",
   "name": "python",
   "nbconvert_exporter": "python",
   "pygments_lexer": "ipython3",
   "version": "3.8.5"
  }
 },
 "nbformat": 4,
 "nbformat_minor": 5
}
