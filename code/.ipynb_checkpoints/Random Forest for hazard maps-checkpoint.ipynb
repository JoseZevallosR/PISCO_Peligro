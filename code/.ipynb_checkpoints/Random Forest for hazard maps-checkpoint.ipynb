{
 "cells": [
  {
   "cell_type": "code",
   "execution_count": 1,
   "id": "5af3e017",
   "metadata": {},
   "outputs": [],
   "source": [
    "import numpy as np\n",
    "import pandas as pd"
   ]
  },
  {
   "cell_type": "code",
   "execution_count": 4,
   "id": "a8a061a0",
   "metadata": {},
   "outputs": [],
   "source": [
    "#slope --    CTE\n",
    "#soil type---CTE\n",
    "#land use ---- Variable \n",
    "#Bearing capacity .. simulate scenarios for 2007 starting from 1999 bearing capacity map\n",
    "\n",
    "#Hazard level 2001 for training and 2007 for validation"
   ]
  },
  {
   "cell_type": "markdown",
   "id": "8672e00e",
   "metadata": {},
   "source": [
    "<img src=\"D:/Proyectos_GitHub/PISCO_Peligro/img/idea_1.png\">"
   ]
  },
  {
   "cell_type": "code",
   "execution_count": null,
   "id": "a3271d26",
   "metadata": {},
   "outputs": [],
   "source": [
    "#Bajo 1\n",
    "#Medio 2\n",
    "#Alto 3\n",
    "#Muy Alto 4"
   ]
  }
 ],
 "metadata": {
  "kernelspec": {
   "display_name": "Python 3",
   "language": "python",
   "name": "python3"
  },
  "language_info": {
   "codemirror_mode": {
    "name": "ipython",
    "version": 3
   },
   "file_extension": ".py",
   "mimetype": "text/x-python",
   "name": "python",
   "nbconvert_exporter": "python",
   "pygments_lexer": "ipython3",
   "version": "3.8.5"
  }
 },
 "nbformat": 4,
 "nbformat_minor": 5
}
